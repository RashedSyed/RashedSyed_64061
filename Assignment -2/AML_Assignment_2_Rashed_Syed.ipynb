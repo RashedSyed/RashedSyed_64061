{
  "nbformat": 4,
  "nbformat_minor": 0,
  "metadata": {
    "colab": {
      "provenance": []
    },
    "kernelspec": {
      "name": "python3",
      "display_name": "Python 3"
    },
    "language_info": {
      "name": "python"
    }
  },
  "cells": [
    {
      "cell_type": "code",
      "execution_count": null,
      "metadata": {
        "id": "qBXkSecH6bM5"
      },
      "outputs": [],
      "source": []
    },
    {
      "cell_type": "code",
      "execution_count": 1,
      "metadata": {
        "id": "0ed4b517",
        "colab": {
          "base_uri": "https://localhost:8080/"
        },
        "outputId": "70434550-cdcd-410b-8960-ffa222c08cc2"
      },
      "outputs": [
        {
          "output_type": "stream",
          "name": "stdout",
          "text": [
            "Downloading data from https://storage.googleapis.com/tensorflow/tf-keras-datasets/imdb.npz\n",
            "17464789/17464789 [==============================] - 0s 0us/step\n"
          ]
        }
      ],
      "source": [
        "from tensorflow.keras.datasets import imdb\n",
        "(train_data, train_labels), (test_data, test_labels) = imdb.load_data(\n",
        "    num_words=10000)"
      ]
    },
    {
      "cell_type": "code",
      "execution_count": 2,
      "metadata": {
        "id": "44d40145",
        "outputId": "82396780-4e85-4219-c18f-b6d5248bcaa2",
        "colab": {
          "base_uri": "https://localhost:8080/"
        }
      },
      "outputs": [
        {
          "output_type": "execute_result",
          "data": {
            "text/plain": [
              "1"
            ]
          },
          "metadata": {},
          "execution_count": 2
        }
      ],
      "source": [
        "train_labels[0]"
      ]
    },
    {
      "cell_type": "code",
      "execution_count": 3,
      "metadata": {
        "id": "d0b5ef8f",
        "outputId": "fe250d90-6cdc-459a-a660-775c03ea852a",
        "colab": {
          "base_uri": "https://localhost:8080/"
        }
      },
      "outputs": [
        {
          "output_type": "execute_result",
          "data": {
            "text/plain": [
              "9999"
            ]
          },
          "metadata": {},
          "execution_count": 3
        }
      ],
      "source": [
        "max([max(sequence) for sequence in train_data])"
      ]
    },
    {
      "cell_type": "code",
      "execution_count": 4,
      "metadata": {
        "id": "cde664d8",
        "colab": {
          "base_uri": "https://localhost:8080/"
        },
        "outputId": "47e9ee71-edb1-4812-b084-4316ff7a3673"
      },
      "outputs": [
        {
          "output_type": "stream",
          "name": "stdout",
          "text": [
            "Downloading data from https://storage.googleapis.com/tensorflow/tf-keras-datasets/imdb_word_index.json\n",
            "1641221/1641221 [==============================] - 0s 0us/step\n"
          ]
        }
      ],
      "source": [
        "word_index = imdb.get_word_index()\n",
        "reverse_word_index = dict(\n",
        "    [(value, key) for (key, value) in word_index.items()])\n",
        "decoded_review = \" \".join(\n",
        "    [reverse_word_index.get(i - 3, \"?\") for i in train_data[0]])"
      ]
    },
    {
      "cell_type": "code",
      "execution_count": 5,
      "metadata": {
        "id": "e4240138"
      },
      "outputs": [],
      "source": [
        "import numpy as np\n",
        "def vectorize_sequences(sequences, dimension=10000):\n",
        "    results = np.zeros((len(sequences), dimension))\n",
        "    for i, sequence in enumerate(sequences):\n",
        "        for j in sequence:\n",
        "            results[i, j] = 1.\n",
        "    return results\n",
        "x_train = vectorize_sequences(train_data)\n",
        "x_test = vectorize_sequences(test_data)"
      ]
    },
    {
      "cell_type": "code",
      "execution_count": 6,
      "metadata": {
        "id": "f5b78735",
        "outputId": "f0967170-a052-4fa2-8bc8-53c1c7ecfe61",
        "colab": {
          "base_uri": "https://localhost:8080/"
        }
      },
      "outputs": [
        {
          "output_type": "execute_result",
          "data": {
            "text/plain": [
              "array([0., 1., 1., ..., 0., 0., 0.])"
            ]
          },
          "metadata": {},
          "execution_count": 6
        }
      ],
      "source": [
        "x_train[0]"
      ]
    },
    {
      "cell_type": "code",
      "execution_count": 7,
      "metadata": {
        "id": "1e3aac2e"
      },
      "outputs": [],
      "source": [
        "y_train = np.asarray(train_labels).astype(\"float32\")\n",
        "y_test = np.asarray(test_labels).astype(\"float32\")"
      ]
    },
    {
      "cell_type": "code",
      "execution_count": 8,
      "metadata": {
        "id": "dffe8ff8"
      },
      "outputs": [],
      "source": [
        "from tensorflow import keras\n",
        "from tensorflow.keras import layers\n",
        "\n",
        "model = keras.Sequential([\n",
        "    layers.Dense(32, activation=\"tanh\"),\n",
        "    layers.Dense(32, activation=\"tanh\"),\n",
        "    layers.Dense(32, activation=\"tanh\"),\n",
        "    layers.Dense(1, activation=\"sigmoid\")\n",
        "])"
      ]
    },
    {
      "cell_type": "code",
      "execution_count": 9,
      "metadata": {
        "id": "2a208143"
      },
      "outputs": [],
      "source": [
        "model.compile(optimizer=\"adam\",\n",
        "              loss=\"mean_squared_error\",\n",
        "              metrics=[\"accuracy\"])"
      ]
    },
    {
      "cell_type": "markdown",
      "metadata": {
        "id": "c6854f06"
      },
      "source": [
        "### Validating the approach"
      ]
    },
    {
      "cell_type": "code",
      "execution_count": 10,
      "metadata": {
        "id": "8b490187"
      },
      "outputs": [],
      "source": [
        "x_val = x_train[:10000]\n",
        "partial_x_train = x_train[10000:]\n",
        "y_val = y_train[:10000]\n",
        "partial_y_train = y_train[10000:]"
      ]
    },
    {
      "cell_type": "code",
      "execution_count": 11,
      "metadata": {
        "id": "edb1f363",
        "outputId": "dd1b5b8c-ca47-4cfb-af27-ff86ee05cfea",
        "colab": {
          "base_uri": "https://localhost:8080/"
        }
      },
      "outputs": [
        {
          "output_type": "stream",
          "name": "stdout",
          "text": [
            "Epoch 1/20\n",
            "59/59 [==============================] - 4s 54ms/step - loss: 0.1230 - accuracy: 0.8348 - val_loss: 0.0872 - val_accuracy: 0.8798\n",
            "Epoch 2/20\n",
            "59/59 [==============================] - 2s 36ms/step - loss: 0.0495 - accuracy: 0.9379 - val_loss: 0.0912 - val_accuracy: 0.8797\n",
            "Epoch 3/20\n",
            "59/59 [==============================] - 2s 28ms/step - loss: 0.0311 - accuracy: 0.9641 - val_loss: 0.0959 - val_accuracy: 0.8792\n",
            "Epoch 4/20\n",
            "59/59 [==============================] - 2s 27ms/step - loss: 0.0217 - accuracy: 0.9768 - val_loss: 0.1036 - val_accuracy: 0.8752\n",
            "Epoch 5/20\n",
            "59/59 [==============================] - 2s 27ms/step - loss: 0.0210 - accuracy: 0.9763 - val_loss: 0.1124 - val_accuracy: 0.8674\n",
            "Epoch 6/20\n",
            "59/59 [==============================] - 1s 22ms/step - loss: 0.0203 - accuracy: 0.9767 - val_loss: 0.1175 - val_accuracy: 0.8643\n",
            "Epoch 7/20\n",
            "59/59 [==============================] - 1s 22ms/step - loss: 0.0191 - accuracy: 0.9784 - val_loss: 0.1181 - val_accuracy: 0.8662\n",
            "Epoch 8/20\n",
            "59/59 [==============================] - 1s 22ms/step - loss: 0.0181 - accuracy: 0.9801 - val_loss: 0.1206 - val_accuracy: 0.8616\n",
            "Epoch 9/20\n",
            "59/59 [==============================] - 2s 30ms/step - loss: 0.0155 - accuracy: 0.9828 - val_loss: 0.1186 - val_accuracy: 0.8665\n",
            "Epoch 10/20\n",
            "59/59 [==============================] - 2s 36ms/step - loss: 0.0161 - accuracy: 0.9823 - val_loss: 0.1194 - val_accuracy: 0.8674\n",
            "Epoch 11/20\n",
            "59/59 [==============================] - 1s 22ms/step - loss: 0.0139 - accuracy: 0.9850 - val_loss: 0.1240 - val_accuracy: 0.8620\n",
            "Epoch 12/20\n",
            "59/59 [==============================] - 1s 21ms/step - loss: 0.0141 - accuracy: 0.9845 - val_loss: 0.1235 - val_accuracy: 0.8654\n",
            "Epoch 13/20\n",
            "59/59 [==============================] - 2s 27ms/step - loss: 0.0144 - accuracy: 0.9847 - val_loss: 0.1281 - val_accuracy: 0.8606\n",
            "Epoch 14/20\n",
            "59/59 [==============================] - 1s 21ms/step - loss: 0.0137 - accuracy: 0.9851 - val_loss: 0.1264 - val_accuracy: 0.8631\n",
            "Epoch 15/20\n",
            "59/59 [==============================] - 1s 22ms/step - loss: 0.0146 - accuracy: 0.9840 - val_loss: 0.1219 - val_accuracy: 0.8675\n",
            "Epoch 16/20\n",
            "59/59 [==============================] - 2s 28ms/step - loss: 0.0139 - accuracy: 0.9847 - val_loss: 0.1266 - val_accuracy: 0.8625\n",
            "Epoch 17/20\n",
            "59/59 [==============================] - 1s 23ms/step - loss: 0.0126 - accuracy: 0.9867 - val_loss: 0.1251 - val_accuracy: 0.8643\n",
            "Epoch 18/20\n",
            "59/59 [==============================] - 2s 35ms/step - loss: 0.0122 - accuracy: 0.9871 - val_loss: 0.1257 - val_accuracy: 0.8627\n",
            "Epoch 19/20\n",
            "59/59 [==============================] - 2s 38ms/step - loss: 0.0112 - accuracy: 0.9885 - val_loss: 0.1254 - val_accuracy: 0.8644\n",
            "Epoch 20/20\n",
            "59/59 [==============================] - 2s 27ms/step - loss: 0.0105 - accuracy: 0.9895 - val_loss: 0.1271 - val_accuracy: 0.8634\n"
          ]
        }
      ],
      "source": [
        "## model planned to train with 20 epoch with batch size of 256\n",
        "\n",
        "history = model.fit(partial_x_train,\n",
        "                    partial_y_train,\n",
        "                    epochs=20,\n",
        "                    batch_size=256,\n",
        "                    validation_data=(x_val, y_val))"
      ]
    },
    {
      "cell_type": "code",
      "execution_count": 12,
      "metadata": {
        "id": "52cb1367",
        "outputId": "c253929c-b159-4039-bf57-1230d0555b21",
        "colab": {
          "base_uri": "https://localhost:8080/"
        }
      },
      "outputs": [
        {
          "output_type": "execute_result",
          "data": {
            "text/plain": [
              "dict_keys(['loss', 'accuracy', 'val_loss', 'val_accuracy'])"
            ]
          },
          "metadata": {},
          "execution_count": 12
        }
      ],
      "source": [
        "history_dict = history.history\n",
        "history_dict.keys()"
      ]
    },
    {
      "cell_type": "markdown",
      "metadata": {
        "id": "97761377"
      },
      "source": [
        "### Plotting the train & Validation loss"
      ]
    },
    {
      "cell_type": "code",
      "execution_count": 13,
      "metadata": {
        "id": "7947e3a4",
        "outputId": "e078d6b8-b618-41af-feb9-ba47273b526f",
        "colab": {
          "base_uri": "https://localhost:8080/",
          "height": 472
        }
      },
      "outputs": [
        {
          "output_type": "display_data",
          "data": {
            "text/plain": [
              "<Figure size 640x480 with 1 Axes>"
            ],
            "image/png": "[encoded data removed]"
          },
          "metadata": {}
        }
      ],
      "source": [
        "import matplotlib.pyplot as plt\n",
        "history_dict = history.history\n",
        "loss_values = history_dict[\"loss\"]\n",
        "val_loss_values = history_dict[\"val_loss\"]\n",
        "epochs = range(1, len(loss_values) + 1)\n",
        "plt.plot(epochs, loss_values, \"bo\", label=\"Training loss\")\n",
        "plt.plot(epochs, val_loss_values, \"b\", label=\"Validation loss\")\n",
        "plt.title(\"Training and validation loss\")\n",
        "plt.xlabel(\"Epochs\")\n",
        "plt.ylabel(\"Loss\")\n",
        "plt.legend()\n",
        "plt.show()"
      ]
    },
    {
      "cell_type": "markdown",
      "metadata": {
        "id": "81b8bca0"
      },
      "source": [
        "**Plotting the training and validation accuracy**"
      ]
    },
    {
      "cell_type": "code",
      "execution_count": 14,
      "metadata": {
        "id": "f8cf4f21",
        "outputId": "b78d57ee-f029-4fc0-b043-dc91c701b426",
        "colab": {
          "base_uri": "https://localhost:8080/",
          "height": 472
        }
      },
      "outputs": [
        {
          "output_type": "display_data",
          "data": {
            "text/plain": [
              "<Figure size 640x480 with 1 Axes>"
            ],
            "image/png": "[encoded data removed]"
          },
          "metadata": {}
        }
      ],
      "source": [
        "plt.clf()\n",
        "acc = history_dict[\"accuracy\"]\n",
        "val_acc = history_dict[\"val_accuracy\"]\n",
        "plt.plot(epochs, acc, \"bo\", label=\"Training acc\")\n",
        "plt.plot(epochs, val_acc, \"b\", label=\"Validation acc\")\n",
        "plt.title(\"Training and validation accuracy\")\n",
        "plt.xlabel(\"Epochs\")\n",
        "plt.ylabel(\"Accuracy\")\n",
        "plt.legend()\n",
        "plt.show()"
      ]
    },
    {
      "cell_type": "code",
      "execution_count": 15,
      "metadata": {
        "id": "06ad0219",
        "outputId": "507d32ed-dbc7-46f1-a705-3c2d1163a458",
        "colab": {
          "base_uri": "https://localhost:8080/"
        }
      },
      "outputs": [
        {
          "output_type": "stream",
          "name": "stdout",
          "text": [
            "782/782 [==============================] - 2s 2ms/step - loss: 0.1425 - accuracy: 0.8470\n"
          ]
        }
      ],
      "source": [
        "results = model.evaluate(x_test, y_test)"
      ]
    },
    {
      "cell_type": "code",
      "execution_count": 16,
      "metadata": {
        "id": "22190590",
        "outputId": "f2fc3bc3-9787-476b-c6a6-da1ae3d5d8f8",
        "colab": {
          "base_uri": "https://localhost:8080/"
        }
      },
      "outputs": [
        {
          "output_type": "execute_result",
          "data": {
            "text/plain": [
              "[0.14248090982437134, 0.8469600081443787]"
            ]
          },
          "metadata": {},
          "execution_count": 16
        }
      ],
      "source": [
        "results"
      ]
    },
    {
      "cell_type": "markdown",
      "metadata": {
        "id": "b7abf977"
      },
      "source": [
        "#### Combining all code together along with dropout layer"
      ]
    },
    {
      "cell_type": "code",
      "execution_count": 17,
      "metadata": {
        "id": "1d4a7121",
        "outputId": "4e548e2b-76d9-461f-d886-76e72416d6b4",
        "colab": {
          "base_uri": "https://localhost:8080/",
          "height": 1000
        }
      },
      "outputs": [
        {
          "output_type": "stream",
          "name": "stdout",
          "text": [
            "Epoch 1/20\n",
            "59/59 [==============================] - 3s 38ms/step - loss: 1.4545 - accuracy: 0.7725 - val_loss: 1.1146 - val_accuracy: 0.8816\n",
            "Epoch 2/20\n",
            "59/59 [==============================] - 1s 22ms/step - loss: 0.8896 - accuracy: 0.9017 - val_loss: 0.6793 - val_accuracy: 0.8881\n",
            "Epoch 3/20\n",
            "59/59 [==============================] - 1s 23ms/step - loss: 0.5052 - accuracy: 0.9279 - val_loss: 0.3769 - val_accuracy: 0.8881\n",
            "Epoch 4/20\n",
            "59/59 [==============================] - 2s 32ms/step - loss: 0.2507 - accuracy: 0.9463 - val_loss: 0.1969 - val_accuracy: 0.8859\n",
            "Epoch 5/20\n",
            "59/59 [==============================] - 2s 26ms/step - loss: 0.1224 - accuracy: 0.9550 - val_loss: 0.1312 - val_accuracy: 0.8831\n",
            "Epoch 6/20\n",
            "59/59 [==============================] - 1s 22ms/step - loss: 0.0840 - accuracy: 0.9640 - val_loss: 0.1171 - val_accuracy: 0.8859\n",
            "Epoch 7/20\n",
            "59/59 [==============================] - 1s 22ms/step - loss: 0.0718 - accuracy: 0.9672 - val_loss: 0.1140 - val_accuracy: 0.8830\n",
            "Epoch 8/20\n",
            "59/59 [==============================] - 2s 27ms/step - loss: 0.0625 - accuracy: 0.9723 - val_loss: 0.1122 - val_accuracy: 0.8824\n",
            "Epoch 9/20\n",
            "59/59 [==============================] - 1s 22ms/step - loss: 0.0556 - accuracy: 0.9773 - val_loss: 0.1107 - val_accuracy: 0.8834\n",
            "Epoch 10/20\n",
            "59/59 [==============================] - 2s 28ms/step - loss: 0.0509 - accuracy: 0.9806 - val_loss: 0.1107 - val_accuracy: 0.8805\n",
            "Epoch 11/20\n",
            "59/59 [==============================] - 1s 23ms/step - loss: 0.0461 - accuracy: 0.9837 - val_loss: 0.1121 - val_accuracy: 0.8780\n",
            "Epoch 12/20\n",
            "59/59 [==============================] - 2s 31ms/step - loss: 0.0424 - accuracy: 0.9855 - val_loss: 0.1111 - val_accuracy: 0.8791\n",
            "Epoch 13/20\n",
            "59/59 [==============================] - 3s 43ms/step - loss: 0.0391 - accuracy: 0.9877 - val_loss: 0.1111 - val_accuracy: 0.8781\n",
            "Epoch 14/20\n",
            "59/59 [==============================] - 2s 27ms/step - loss: 0.0369 - accuracy: 0.9889 - val_loss: 0.1118 - val_accuracy: 0.8780\n",
            "Epoch 15/20\n",
            "59/59 [==============================] - 1s 23ms/step - loss: 0.0343 - accuracy: 0.9903 - val_loss: 0.1130 - val_accuracy: 0.8788\n",
            "Epoch 16/20\n",
            "59/59 [==============================] - 2s 29ms/step - loss: 0.0318 - accuracy: 0.9915 - val_loss: 0.1138 - val_accuracy: 0.8757\n",
            "Epoch 17/20\n",
            "59/59 [==============================] - 2s 28ms/step - loss: 0.0296 - accuracy: 0.9933 - val_loss: 0.1123 - val_accuracy: 0.8768\n",
            "Epoch 18/20\n",
            "59/59 [==============================] - 1s 22ms/step - loss: 0.0283 - accuracy: 0.9935 - val_loss: 0.1115 - val_accuracy: 0.8750\n",
            "Epoch 19/20\n",
            "59/59 [==============================] - 1s 22ms/step - loss: 0.0271 - accuracy: 0.9936 - val_loss: 0.1142 - val_accuracy: 0.8745\n",
            "Epoch 20/20\n",
            "59/59 [==============================] - 2s 33ms/step - loss: 0.0256 - accuracy: 0.9947 - val_loss: 0.1148 - val_accuracy: 0.8747\n"
          ]
        },
        {
          "output_type": "display_data",
          "data": {
            "text/plain": [
              "<Figure size 640x480 with 1 Axes>"
            ],
            "image/png": "[encoded data removed]"
          },
          "metadata": {}
        },
        {
          "output_type": "stream",
          "name": "stdout",
          "text": [
            "782/782 [==============================] - 2s 2ms/step - loss: 0.1242 - accuracy: 0.8611\n"
          ]
        },
        {
          "output_type": "execute_result",
          "data": {
            "text/plain": [
              "[0.12421923130750656, 0.8611199855804443]"
            ]
          },
          "metadata": {},
          "execution_count": 17
        }
      ],
      "source": [
        "## Libraries required for setting up an environment\n",
        "\n",
        "#####################################\n",
        "from tensorflow import keras\n",
        "from tensorflow.keras import layers\n",
        "from keras.layers import Dense\n",
        "from keras.layers import Dropout\n",
        "from tensorflow.keras import regularizers\n",
        "#####################################\n",
        "\n",
        "# Neural network implementation using 3 layered approach with a single dropout layer\n",
        "#######################################\n",
        "model = keras.Sequential()\n",
        "model.add(Dense(32,activation='tanh'))\n",
        "model.add(Dropout(0.5))\n",
        "#kernel_regularizer=regularizers.L1(0.01), activity_regularizer=regularizers.L2(0.01))\n",
        "model.add(Dense(32,activation='tanh',kernel_regularizer=regularizers.L1(0.01), activity_regularizer=regularizers.L2(0.01)))\n",
        "model.add(Dropout(0.5))\n",
        "model.add(Dense(32,activation='tanh'))\n",
        "model.add(Dense(1, activation='sigmoid'))\n",
        "########################################\n",
        "\n",
        "# Here for compilation we used optimizer \"adagrad\", mean squared error loss and accuracy metrics\n",
        "########################################\n",
        "model.compile(optimizer=\"adam\",\n",
        "              loss=\"mean_squared_error\",\n",
        "              metrics=[\"accuracy\"])\n",
        "########################################\n",
        "\n",
        "## splitting the data\n",
        "#######################################\n",
        "x_val = x_train[:10000]\n",
        "partial_x_train = x_train[10000:]\n",
        "y_val = y_train[:10000]\n",
        "partial_y_train = y_train[10000:]\n",
        "#######################################\n",
        "\n",
        "# Train a neural network\n",
        "#####################################################\n",
        "history = model.fit(partial_x_train,\n",
        "                    partial_y_train,\n",
        "                    epochs=20,\n",
        "                    batch_size=256,\n",
        "                    validation_data=(x_val, y_val))\n",
        "#####################################################\n",
        "\n",
        "# plotting the Training and Validation accuracy\n",
        "####################################################\n",
        "plt.clf()\n",
        "acc = history_dict[\"accuracy\"]\n",
        "val_acc = history_dict[\"val_accuracy\"]\n",
        "plt.plot(epochs, acc, \"bo\", label=\"Training acc\")\n",
        "plt.plot(epochs, val_acc, \"b\", label=\"Validation acc\")\n",
        "plt.title(\"Training and validation accuracy\")\n",
        "plt.xlabel(\"Epochs\")\n",
        "plt.ylabel(\"Accuracy\")\n",
        "plt.legend()\n",
        "plt.show()\n",
        "####################################################\n",
        "\n",
        "\n",
        "# Evaluating the results\n",
        "results = model.evaluate(x_test, y_test)\n",
        "results\n"
      ]
    }
  ]
}